{
 "cells": [
  {
   "cell_type": "code",
   "execution_count": 2,
   "metadata": {},
   "outputs": [
    {
     "name": "stderr",
     "output_type": "stream",
     "text": [
      "Fontconfig warning: ignoring UTF-8: not a valid region tag\n",
      "Matplotlib is building the font cache; this may take a moment.\n"
     ]
    }
   ],
   "source": [
    "# Loading modules\n",
    "import numpy as np\n",
    "import pandas as pd\n",
    "import matplotlib.pyplot as plt"
   ]
  },
  {
   "cell_type": "code",
   "execution_count": null,
   "metadata": {},
   "outputs": [
    {
     "data": {
      "text/html": [
       "<div>\n",
       "<style scoped>\n",
       "    .dataframe tbody tr th:only-of-type {\n",
       "        vertical-align: middle;\n",
       "    }\n",
       "\n",
       "    .dataframe tbody tr th {\n",
       "        vertical-align: top;\n",
       "    }\n",
       "\n",
       "    .dataframe thead th {\n",
       "        text-align: right;\n",
       "    }\n",
       "</style>\n",
       "<table border=\"1\" class=\"dataframe\">\n",
       "  <thead>\n",
       "    <tr style=\"text-align: right;\">\n",
       "      <th></th>\n",
       "      <th>Parent</th>\n",
       "      <th>Child</th>\n",
       "      <th>Length</th>\n",
       "      <th>Sequence</th>\n",
       "    </tr>\n",
       "  </thead>\n",
       "  <tbody>\n",
       "    <tr>\n",
       "      <th>0</th>\n",
       "      <td>9</td>\n",
       "      <td>1</td>\n",
       "      <td>0.10</td>\n",
       "      <td>AGATCAAGATCAAGATCAAGATCAAGATCA</td>\n",
       "    </tr>\n",
       "    <tr>\n",
       "      <th>1</th>\n",
       "      <td>9</td>\n",
       "      <td>2</td>\n",
       "      <td>0.40</td>\n",
       "      <td>AGCTCAAGCTCAAGCTCAAGCTCAAGCTCA</td>\n",
       "    </tr>\n",
       "    <tr>\n",
       "      <th>2</th>\n",
       "      <td>8</td>\n",
       "      <td>9</td>\n",
       "      <td>0.01</td>\n",
       "      <td>NaN</td>\n",
       "    </tr>\n",
       "    <tr>\n",
       "      <th>3</th>\n",
       "      <td>8</td>\n",
       "      <td>3</td>\n",
       "      <td>0.04</td>\n",
       "      <td>CGCTATCGCTATCGCTATCGCTATCGCTAT</td>\n",
       "    </tr>\n",
       "    <tr>\n",
       "      <th>4</th>\n",
       "      <td>7</td>\n",
       "      <td>4</td>\n",
       "      <td>0.20</td>\n",
       "      <td>CGTTACCGTTACCGTTACCGTTACCGTTAC</td>\n",
       "    </tr>\n",
       "    <tr>\n",
       "      <th>5</th>\n",
       "      <td>7</td>\n",
       "      <td>5</td>\n",
       "      <td>0.08</td>\n",
       "      <td>CGCTACCGCTACCGCTACCGCTACCGCTAC</td>\n",
       "    </tr>\n",
       "    <tr>\n",
       "      <th>6</th>\n",
       "      <td>6</td>\n",
       "      <td>7</td>\n",
       "      <td>0.12</td>\n",
       "      <td>NaN</td>\n",
       "    </tr>\n",
       "    <tr>\n",
       "      <th>7</th>\n",
       "      <td>6</td>\n",
       "      <td>8</td>\n",
       "      <td>0.14</td>\n",
       "      <td>NaN</td>\n",
       "    </tr>\n",
       "  </tbody>\n",
       "</table>\n",
       "</div>"
      ],
      "text/plain": [
       "   Parent  Child  Length                        Sequence\n",
       "0       9      1    0.10  AGATCAAGATCAAGATCAAGATCAAGATCA\n",
       "1       9      2    0.40  AGCTCAAGCTCAAGCTCAAGCTCAAGCTCA\n",
       "2       8      9    0.01                             NaN\n",
       "3       8      3    0.04  CGCTATCGCTATCGCTATCGCTATCGCTAT\n",
       "4       7      4    0.20  CGTTACCGTTACCGTTACCGTTACCGTTAC\n",
       "5       7      5    0.08  CGCTACCGCTACCGCTACCGCTACCGCTAC\n",
       "6       6      7    0.12                             NaN\n",
       "7       6      8    0.14                             NaN"
      ]
     },
     "execution_count": 19,
     "metadata": {},
     "output_type": "execute_result"
    }
   ],
   "source": [
    "# Loading data\n",
    "tree_table = pd.read_csv('table.dat', sep = ',', header=None, names=['Parent', 'Child'])\n",
    "branch_lengths = pd.read_csv('branchlength.dat', sep = ',', header=None)\n",
    "branch_lengths = pd.DataFrame(branch_lengths.values.flatten(), columns=['Length'])\n",
    "msa = pd.read_csv('msa.dat', sep = ' ', header=None)\n",
    "merged_data = pd.concat([tree_table, branch_lengths], axis=1)\n",
    "merged_data['Sequence'] = np.nan\n",
    "merged_data['Sequence'] = merged_data['Sequence'].astype(object)\n",
    "# Iterate over msa and update the 'sequence' column in merged_data\n",
    "for index, row in msa.iterrows():\n",
    "    child_value = row[0]\n",
    "    sequence_value = ' '.join(map(str, row[1:]))\n",
    "    merged_data.loc[merged_data['Child'] == child_value, 'Sequence'] = sequence_value\n",
    "\n",
    "merged_data"
   ]
  },
  {
   "cell_type": "code",
   "execution_count": null,
   "metadata": {},
   "outputs": [
    {
     "name": "stdout",
     "output_type": "stream",
     "text": [
      "Empty Tree\n"
     ]
    }
   ],
   "source": [
    "# Creating the node class\n",
    "class Node:\n",
    "\n",
    "    def __init__(self, identity, parent=None, branch_length=None, sequence=None):\n",
    "        self.identity = identity\n",
    "        self.parent = parent\n",
    "        self.branch_length = branch_length\n",
    "        self.sequence = sequence\n",
    "        self.children = []\n"
   ]
  }
 ],
 "metadata": {
  "kernelspec": {
   "display_name": ".venv",
   "language": "python",
   "name": "python3"
  },
  "language_info": {
   "codemirror_mode": {
    "name": "ipython",
    "version": 3
   },
   "file_extension": ".py",
   "mimetype": "text/x-python",
   "name": "python",
   "nbconvert_exporter": "python",
   "pygments_lexer": "ipython3",
   "version": "3.12.3"
  }
 },
 "nbformat": 4,
 "nbformat_minor": 2
}
